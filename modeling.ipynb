{
 "cells": [
  {
   "cell_type": "markdown",
   "metadata": {},
   "source": [
    "###  Covert the longitudinal blood pressure measurnments into a proper time series"
   ]
  },
  {
   "cell_type": "code",
   "execution_count": 10,
   "metadata": {},
   "outputs": [
    {
     "name": "stdout",
     "output_type": "stream",
     "text": [
      "visit_date\n",
      "2023-01-17    108.6\n",
      "2023-02-22    104.8\n",
      "2023-03-23    106.3\n",
      "2023-04-16    110.8\n",
      "2023-06-05    117.7\n",
      "2023-06-16    118.0\n",
      "2023-06-21    119.9\n",
      "2023-07-03    115.5\n",
      "2023-08-23    119.2\n",
      "2023-10-13    121.2\n",
      "2023-10-20    120.0\n",
      "2023-12-13    123.1\n",
      "2024-01-17    122.4\n",
      "2024-03-01    121.3\n",
      "2024-03-14    122.4\n",
      "2024-04-04    119.8\n",
      "2024-04-17    122.5\n",
      "2024-05-19    119.7\n",
      "2024-05-25    114.8\n",
      "2024-07-03    117.1\n",
      "2024-10-05    115.2\n",
      "2024-10-21    116.7\n",
      "2024-11-14    111.8\n",
      "2024-12-07    110.2\n",
      "2025-01-19    110.3\n",
      "2025-02-20    107.3\n",
      "2025-02-25    104.4\n",
      "2025-03-25    109.7\n",
      "2025-04-03    107.5\n",
      "2025-06-17    105.8\n",
      "2025-06-23    106.3\n",
      "2025-07-31    106.7\n",
      "2025-08-26    104.7\n",
      "2025-11-12    108.7\n",
      "2025-12-04    104.8\n",
      "2025-12-08    107.9\n",
      "2025-12-22    108.0\n",
      "2026-01-26    106.5\n",
      "2026-02-14    107.8\n",
      "2026-04-28    111.8\n",
      "2026-05-24    112.1\n",
      "2026-05-30    107.0\n",
      "2026-06-30    110.9\n",
      "2026-07-22    110.3\n",
      "2026-08-15    111.0\n",
      "2026-09-19    108.9\n",
      "2026-09-30    109.6\n",
      "2026-10-26    106.5\n",
      "2027-01-07    108.0\n",
      "2027-02-17    110.7\n",
      "2027-02-19    109.5\n",
      "2027-04-05    112.7\n",
      "2027-05-09    113.3\n",
      "2027-06-09    109.2\n",
      "2027-07-02    110.7\n",
      "2027-08-28    106.6\n",
      "2027-09-17    109.2\n",
      "2027-10-14    105.3\n",
      "2027-12-02    109.4\n",
      "2027-12-11    104.0\n",
      "Name: bp_systolic, dtype: float64\n"
     ]
    }
   ],
   "source": [
    "import pandas as pd \n",
    "\n",
    "# Load the data with tab seperator  \n",
    "df = pd.read_csv(\"patient_longitudinal.csv\", sep='\\t')\n",
    "\n",
    "#  Convert `visit_date` to datetime and set as index\n",
    "df['visit_date'] = pd.to_datetime(df['visit_date'], format='%Y-%m-%d')\n",
    "df.set_index('visit_date', inplace=True)\n",
    "\n",
    "# Handle duplicates by grouping with visit_date and applying mean aggregation\n",
    "df = df[~df.index.duplicated(keep='first')].groupby(level=0).mean()\n",
    "\n",
    "# Handle missing values by interpolating missing values \n",
    "df['bp_systolic'] = df['bp_systolic'].interpolate()\n",
    "\n",
    "# Convert to pandas Series for a single time series of blood pressure measurements\n",
    "blood_pressure_series = df['bp_systolic']\n",
    "\n",
    "# Result: The blood pressure measurements as a time-indexed pandas Series\n",
    "print(blood_pressure_series)\n"
   ]
  },
  {
   "cell_type": "markdown",
   "metadata": {},
   "source": []
  },
  {
   "cell_type": "markdown",
   "metadata": {},
   "source": []
  }
 ],
 "metadata": {
  "kernelspec": {
   "display_name": "base",
   "language": "python",
   "name": "python3"
  },
  "language_info": {
   "codemirror_mode": {
    "name": "ipython",
    "version": 3
   },
   "file_extension": ".py",
   "mimetype": "text/x-python",
   "name": "python",
   "nbconvert_exporter": "python",
   "pygments_lexer": "ipython3",
   "version": "3.12.4"
  }
 },
 "nbformat": 4,
 "nbformat_minor": 2
}
